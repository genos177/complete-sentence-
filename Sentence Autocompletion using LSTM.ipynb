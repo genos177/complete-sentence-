{
 "cells": [
  {
   "cell_type": "code",
   "execution_count": 1,
   "metadata": {},
   "outputs": [],
   "source": [
    "import os\n",
    "import pandas as pd\n",
    "import numpy as np\n",
    "import tensorflow as tf\n",
    "from tensorflow.keras.preprocessing.sequence import pad_sequences\n",
    "from tensorflow.keras.layers import Embedding, LSTM, Dense, Bidirectional\n",
    "from tensorflow.keras.preprocessing.text import Tokenizer\n",
    "from tensorflow.keras.models import Sequential\n",
    "from tensorflow.keras.optimizers import Adam\n",
    "import nltk\n",
    "import re"
   ]
  },
  {
   "cell_type": "code",
   "execution_count": 2,
   "metadata": {},
   "outputs": [],
   "source": [
    "# Specify the filename\n",
    "input_file = 'holmes.txt'\n",
    "\n",
    "# Read the contents of the file\n",
    "with open(input_file, 'r', encoding='utf-8') as infile:\n",
    "    data = infile.read()"
   ]
  },
  {
   "cell_type": "code",
   "execution_count": 3,
   "metadata": {},
   "outputs": [
    {
     "data": {
      "text/plain": [
       "\"*Project Gutenberg's Etext of Tom Swift And His Submarine Boat*\\n\\n#4 in the Victor Appleton's Tom Swi\""
      ]
     },
     "execution_count": 3,
     "metadata": {},
     "output_type": "execute_result"
    }
   ],
   "source": [
    "data[:100] # view first few characters"
   ]
  },
  {
   "cell_type": "code",
   "execution_count": 4,
   "metadata": {},
   "outputs": [],
   "source": [
    "# Limit data to 500000 characters\n",
    "data = data[:500000] # use only 500k words "
   ]
  },
  {
   "cell_type": "markdown",
   "metadata": {},
   "source": [
    "# Clean Text"
   ]
  },
  {
   "cell_type": "code",
   "execution_count": 5,
   "metadata": {},
   "outputs": [],
   "source": [
    "# Function to remove emojis and special characters from text\n",
    "def remove_emojis_and_special_characters(text):\n",
    "    # Remove emojis\n",
    "    emoji_pattern = re.compile(\"[\"\n",
    "                               u\"\\U0001F600-\\U0001F64F\"  # emoticons\n",
    "                               u\"\\U0001F300-\\U0001F5FF\"  # symbols & pictographs\n",
    "                               u\"\\U0001F680-\\U0001F6FF\"  # transport & map symbols\n",
    "                               u\"\\U0001F700-\\U0001F77F\"  # alchemical symbols\n",
    "                               u\"\\U0001F780-\\U0001F7FF\"  # Geometric Shapes Extended\n",
    "                               u\"\\U0001F800-\\U0001F8FF\"  # Supplemental Arrows-C\n",
    "                               u\"\\U0001F900-\\U0001F9FF\"  # Supplemental Symbols and Pictographs\n",
    "                               u\"\\U0001FA00-\\U0001FA6F\"  # Chess Symbols\n",
    "                               u\"\\U0001FA70-\\U0001FAFF\"  # Symbols and Pictographs Extended-A\n",
    "                               u\"\\U00002702-\\U000027B0\"  # Dingbats\n",
    "                               u\"\\U000024C2-\\U0001F251\" \n",
    "                               \"]+\", flags=re.UNICODE)\n",
    "    \n",
    "    # Remove special characters\n",
    "    text = re.sub(r'[^a-zA-Z0-9\\s]', '', text)\n",
    "    \n",
    "    # Remove extra spaces\n",
    "    text = re.sub(' +', ' ', text)\n",
    "    \n",
    "    return text"
   ]
  },
  {
   "cell_type": "code",
   "execution_count": 6,
   "metadata": {},
   "outputs": [],
   "source": [
    "# Preprocessing pipeline\n",
    "def preprocess_pipeline(data) -> 'list':\n",
    "    # Split by newline character\n",
    "    sentences = data.split('\\n') # split the sentences into list wherever /n\n",
    "    for i in range(len(sentences)):\n",
    "        sentences[i] = remove_emojis_and_special_characters(sentences[i])\n",
    "    # Remove leading and trailing spaces\n",
    "    sentences = [s.strip() for s in sentences] # string all the words from the sentences by spaces \n",
    "    # Drop empty sentences\n",
    "    sentences = [s for s in sentences if len(s) > 0] # drop empty sentences \n",
    "    # Tokenization\n",
    "    tokenized = []\n",
    "    for sentence in sentences:\n",
    "        # Convert to lowercase\n",
    "        sentence = sentence.lower()\n",
    "        tokenized.append(sentence)\n",
    "    return tokenized\n",
    "\n",
    "# Tokenize sentences\n",
    "tokenized_sentences = preprocess_pipeline(data)"
   ]
  },
  {
   "cell_type": "markdown",
   "metadata": {},
   "source": [
    "### Tokenizer Initialization and Fitting:\n",
    "\n",
    "tokenizer = Tokenizer(oov_token='oov')\n",
    "tokenizer.fit_on_texts(tokenized_sentences)\n",
    "\n",
    "* Tokenizer Initialization: Initializes a Tokenizer object with oov as the out-of-vocabulary token.\n",
    "* Fitting: Fits the tokenizer on tokenized_sentences, which is a list of lists (each inner list represents a tokenized sentence). This step builds the vocabulary (word index dictionary) based on the input sentences.\n",
    "\n",
    "### Calculate Total Words:\n",
    "\n",
    "total_words = len(tokenizer.word_index) + 1\n",
    "\n",
    "* Total Words Calculation: Calculates the total number of unique words in the tokenizer's vocabulary. tokenizer.word_index is a dictionary where keys are words and values are their corresponding indices. Adding 1 accounts for the <oov token.\n",
    "\n",
    "### Create Input Sequences (N-grams):\n",
    "\n",
    "input_sequences = []\n",
    "for line in tokenized_sentences:\n",
    "    token_list = tokenizer.texts_to_sequences([line])[0]\n",
    "    for i in range(1, len(token_list)):\n",
    "        n_gram_sequence = token_list[:i + 1]\n",
    "        input_sequences.append(n_gram_sequence)\n",
    "\n",
    "* Tokenization to Sequences:\n",
    "tokenizer.texts_to_sequences([line]) converts each line (list of words) into a list of integer sequences, where each integer represents the index of a word in the tokenizer's word index dictionary.\n",
    "[0] is used to extract the first (and only) element from the list returned by texts_to_sequences, which is the sequence of integers representing the tokens in line.\n",
    "\n",
    "* Generate N-grams:\n",
    "For each tokenized sequence (token_list), it iterates through the sequence (for i in range(1, len(token_list))) starting from the second token (i=1).\n",
    "n_gram_sequence = token_list[:i + 1] creates an N-gram sequence by taking the first i+1 tokens from token_list.\n",
    "Each n_gram_sequence is appended to input_sequences, resulting in a list of sequences where each sequence contains increasing lengths of N-grams (from 2-grams up to the length of the sentence).\n"
   ]
  },
  {
   "cell_type": "code",
   "execution_count": 7,
   "metadata": {},
   "outputs": [
    {
     "data": {
      "text/plain": [
       "'\"\\nn_gram example:\\n[3, 15, 8, 7, 20, 12, 6]\\n\\nFor the above sentece sentence, the code would generate the following n-gram sequences:\\n\\n[3, 15]\\n[3, 15, 8]\\n[3, 15, 8, 7]\\n[3, 15, 8, 7, 20]\\n[3, 15, 8, 7, 20, 12]\\n[3, 15, 8, 7, 20, 12, 6]\\n\\n'"
      ]
     },
     "execution_count": 7,
     "metadata": {},
     "output_type": "execute_result"
    }
   ],
   "source": [
    "\"\"\"\"\n",
    "n_gram example:\n",
    "[3, 15, 8, 7, 20, 12, 6]\n",
    "\n",
    "For the above sentece sentence, the code would generate the following n-gram sequences:\n",
    "\n",
    "[3, 15]\n",
    "[3, 15, 8]\n",
    "[3, 15, 8, 7]\n",
    "[3, 15, 8, 7, 20]\n",
    "[3, 15, 8, 7, 20, 12]\n",
    "[3, 15, 8, 7, 20, 12, 6]\n",
    "\n",
    "\"\"\""
   ]
  },
  {
   "cell_type": "markdown",
   "metadata": {},
   "source": [
    "\n",
    "### Padding Sequences:\n",
    "\n",
    "python\n",
    "max_sequence_len = max([len(x) for x in input_sequences])\n",
    "input_sequences = np.array(pad_sequences(input_sequences, maxlen=max_sequence_len, padding='pre'))\n",
    "\n",
    "* Calculate Maximum Sequence Length:\n",
    "max_sequence_len = max([len(x) for x in input_sequences]) finds the maximum length of sequences in input_sequences.\n",
    "Padding:\n",
    "* pad_sequences(input_sequences, maxlen=max_sequence_len, padding='pre') pads each sequence in input_sequences with zeros (0) at the beginning ('pre' padding) to make all sequences of equal length (maxlen=max_sequence_len).\n",
    "np.array() converts the padded sequences into a numpy array for further processing."
   ]
  },
  {
   "cell_type": "code",
   "execution_count": 8,
   "metadata": {},
   "outputs": [],
   "source": [
    "\"\"\"\n",
    "What is an OOV Token?\n",
    "An out-of-vocabulary (OOV) token is a special token used in natural language processing (NLP) tasks to represent words that\n",
    "are not present in the vocabulary of the model or tokenizer. When a word that is not in the vocabulary is encountered during\n",
    "tokenization or text processing, it is replaced with the OOV token.\n",
    "\n",
    "Why Use an OOV Token?\n",
    "Using an OOV token helps handle unseen or unknown words during the training or inference phase of an NLP model. \n",
    "Instead of encountering errors or issues when encountering unknown words, the model can gracefully handle them by\n",
    "representing them with the OOV token. This is particularly useful when working with real-world data where the vocabulary\n",
    "of the model may not cover all possible words.\n",
    "\"\"\"\n",
    "# Tokenize words\n",
    "tokenizer = Tokenizer(oov_token='<oov>')\n",
    "tokenizer.fit_on_texts(tokenized_sentences)\n",
    "total_words = len(tokenizer.word_index) + 1 # down expalanation\n",
    "\n",
    "# Generate input sequences\n",
    "input_sequences = []\n",
    "for line in tokenized_sentences:\n",
    "    token_list = tokenizer.texts_to_sequences([line])[0] # convert list of words to list of integers where each integer represents the index of a word in the tokenizer's word index dictionary\n",
    "    #  returns a list of lists, where each inner list contains the integer sequences corresponding to the tokens in each text.\n",
    "    for i in range(1, len(token_list)):\n",
    "        n_gram_sequence = token_list[:i + 1]\n",
    "        input_sequences.append(n_gram_sequence)\n",
    "\n",
    "# Pad sequences filling the list with 0s to fill the size < len(x) for x in input_sequences < this is maxL > \n",
    "max_sequence_len = max([len(x) for x in input_sequences]) \n",
    "input_sequences = np.array(pad_sequences(input_sequences, maxlen=max_sequence_len, padding='pre')) # --pre means adding 0s before "
   ]
  },
  {
   "cell_type": "code",
   "execution_count": 9,
   "metadata": {},
   "outputs": [
    {
     "data": {
      "text/plain": [
       "'\"\\nEg: [0 , 0 , 0 , 2 ,6 ,18 , 457 , 4 , 8 , 7 ]\\n     ^^^^^^^^^^^^^^^^^^^^^^^^^^^^^^^^^^   ^ \\n     these will be the int the input      this we will make the the out put word ( or label ) \\n     sequence \\n     means last word of each squence will be the word to be predicted \\n'"
      ]
     },
     "execution_count": 9,
     "metadata": {},
     "output_type": "execute_result"
    }
   ],
   "source": [
    "\"\"\"\"\n",
    "Eg: [0 , 0 , 0 , 2 ,6 ,18 , 457 , 4 , 8 , 7 ]\n",
    "     ^^^^^^^^^^^^^^^^^^^^^^^^^^^^^^^^^^   ^ \n",
    "     these will be the int the input      this we will make the the out put word ( or label ) \n",
    "     sequence \n",
    "     means last word of each squence will be the word to be predicted \n",
    "\"\"\""
   ]
  },
  {
   "cell_type": "code",
   "execution_count": 10,
   "metadata": {},
   "outputs": [],
   "source": [
    "# Creates labels with input sequences\n",
    "X,labels = input_sequences[:,:-1],input_sequences[:,-1]\n",
    "ys = tf.keras.utils.to_categorical(labels, num_classes=total_words) #  converts the integer class labels into one-hot encoded vectors"
   ]
  },
  {
   "cell_type": "code",
   "execution_count": 11,
   "metadata": {},
   "outputs": [
    {
     "data": {
      "text/plain": [
       "array([[0., 0., 0., ..., 0., 0., 0.],\n",
       "       [0., 0., 0., ..., 0., 0., 0.],\n",
       "       [0., 0., 0., ..., 0., 0., 0.],\n",
       "       ...,\n",
       "       [0., 0., 0., ..., 0., 0., 0.],\n",
       "       [0., 0., 0., ..., 0., 0., 0.],\n",
       "       [0., 0., 0., ..., 0., 0., 1.]])"
      ]
     },
     "execution_count": 11,
     "metadata": {},
     "output_type": "execute_result"
    }
   ],
   "source": [
    "ys"
   ]
  },
  {
   "cell_type": "code",
   "execution_count": 12,
   "metadata": {
    "execution": {
     "iopub.execute_input": "2024-04-11T05:32:13.168190Z",
     "iopub.status.busy": "2024-04-11T05:32:13.167751Z",
     "iopub.status.idle": "2024-04-11T05:32:20.041506Z",
     "shell.execute_reply": "2024-04-11T05:32:20.040383Z",
     "shell.execute_reply.started": "2024-04-11T05:32:13.168137Z"
    }
   },
   "outputs": [],
   "source": [
    "# Split data into training, validation, and test sets\n",
    "from sklearn.model_selection import train_test_split\n",
    "X_train_temp, X_val_test, y_train_temp, y_val_test = train_test_split(X, ys, test_size=0.2, random_state=42)\n",
    "X_val, X_test, y_val, y_test = train_test_split(X_val_test, y_val_test, test_size=0.5, random_state=42)"
   ]
  },
  {
   "cell_type": "markdown",
   "metadata": {},
   "source": [
    "# Train LSTM Model"
   ]
  },
  {
   "cell_type": "code",
   "execution_count": 14,
   "metadata": {
    "execution": {
     "iopub.execute_input": "2024-04-11T06:50:19.346868Z",
     "iopub.status.busy": "2024-04-11T06:50:19.345839Z",
     "iopub.status.idle": "2024-04-11T07:17:23.071736Z",
     "shell.execute_reply": "2024-04-11T07:17:23.070573Z",
     "shell.execute_reply.started": "2024-04-11T06:50:19.346830Z"
    }
   },
   "outputs": [
    {
     "name": "stdout",
     "output_type": "stream",
     "text": [
      "Epoch 1/50\n",
      "\u001b[1m2002/2002\u001b[0m \u001b[32m━━━━━━━━━━━━━━━━━━━━\u001b[0m\u001b[37m\u001b[0m \u001b[1m82s\u001b[0m 39ms/step - accuracy: 0.0956 - loss: 6.2877 - val_accuracy: 0.1325 - val_loss: 5.6882\n",
      "Epoch 2/50\n",
      "\u001b[1m2002/2002\u001b[0m \u001b[32m━━━━━━━━━━━━━━━━━━━━\u001b[0m\u001b[37m\u001b[0m \u001b[1m69s\u001b[0m 35ms/step - accuracy: 0.1567 - loss: 5.1591 - val_accuracy: 0.1500 - val_loss: 5.6398\n",
      "Epoch 3/50\n",
      "\u001b[1m2002/2002\u001b[0m \u001b[32m━━━━━━━━━━━━━━━━━━━━\u001b[0m\u001b[37m\u001b[0m \u001b[1m69s\u001b[0m 34ms/step - accuracy: 0.1775 - loss: 4.6538 - val_accuracy: 0.1528 - val_loss: 5.7728\n",
      "Epoch 4/50\n",
      "\u001b[1m2002/2002\u001b[0m \u001b[32m━━━━━━━━━━━━━━━━━━━━\u001b[0m\u001b[37m\u001b[0m \u001b[1m72s\u001b[0m 36ms/step - accuracy: 0.2005 - loss: 4.2600 - val_accuracy: 0.1515 - val_loss: 5.9631\n",
      "Epoch 5/50\n",
      "\u001b[1m2002/2002\u001b[0m \u001b[32m━━━━━━━━━━━━━━━━━━━━\u001b[0m\u001b[37m\u001b[0m \u001b[1m69s\u001b[0m 35ms/step - accuracy: 0.2156 - loss: 3.9883 - val_accuracy: 0.1575 - val_loss: 6.1795\n",
      "Epoch 6/50\n",
      "\u001b[1m2002/2002\u001b[0m \u001b[32m━━━━━━━━━━━━━━━━━━━━\u001b[0m\u001b[37m\u001b[0m \u001b[1m74s\u001b[0m 37ms/step - accuracy: 0.2380 - loss: 3.7816 - val_accuracy: 0.1555 - val_loss: 6.4312\n",
      "Epoch 7/50\n",
      "\u001b[1m2002/2002\u001b[0m \u001b[32m━━━━━━━━━━━━━━━━━━━━\u001b[0m\u001b[37m\u001b[0m \u001b[1m72s\u001b[0m 36ms/step - accuracy: 0.2487 - loss: 3.6224 - val_accuracy: 0.1531 - val_loss: 6.6754\n",
      "Epoch 8/50\n",
      "\u001b[1m2002/2002\u001b[0m \u001b[32m━━━━━━━━━━━━━━━━━━━━\u001b[0m\u001b[37m\u001b[0m \u001b[1m70s\u001b[0m 35ms/step - accuracy: 0.2593 - loss: 3.5137 - val_accuracy: 0.1530 - val_loss: 6.8797\n",
      "Epoch 9/50\n",
      "\u001b[1m2002/2002\u001b[0m \u001b[32m━━━━━━━━━━━━━━━━━━━━\u001b[0m\u001b[37m\u001b[0m \u001b[1m71s\u001b[0m 35ms/step - accuracy: 0.2724 - loss: 3.4363 - val_accuracy: 0.1530 - val_loss: 7.1318\n",
      "Epoch 10/50\n",
      "\u001b[1m2002/2002\u001b[0m \u001b[32m━━━━━━━━━━━━━━━━━━━━\u001b[0m\u001b[37m\u001b[0m \u001b[1m74s\u001b[0m 37ms/step - accuracy: 0.2823 - loss: 3.3477 - val_accuracy: 0.1394 - val_loss: 7.3361\n",
      "Epoch 11/50\n",
      "\u001b[1m2002/2002\u001b[0m \u001b[32m━━━━━━━━━━━━━━━━━━━━\u001b[0m\u001b[37m\u001b[0m \u001b[1m68s\u001b[0m 34ms/step - accuracy: 0.2828 - loss: 3.2954 - val_accuracy: 0.1508 - val_loss: 7.4885\n",
      "Epoch 12/50\n",
      "\u001b[1m2002/2002\u001b[0m \u001b[32m━━━━━━━━━━━━━━━━━━━━\u001b[0m\u001b[37m\u001b[0m \u001b[1m78s\u001b[0m 39ms/step - accuracy: 0.2880 - loss: 3.2719 - val_accuracy: 0.1495 - val_loss: 7.6697\n",
      "Epoch 13/50\n",
      "\u001b[1m2002/2002\u001b[0m \u001b[32m━━━━━━━━━━━━━━━━━━━━\u001b[0m\u001b[37m\u001b[0m \u001b[1m88s\u001b[0m 44ms/step - accuracy: 0.2903 - loss: 3.2213 - val_accuracy: 0.1488 - val_loss: 7.8321\n",
      "Epoch 14/50\n",
      "\u001b[1m2002/2002\u001b[0m \u001b[32m━━━━━━━━━━━━━━━━━━━━\u001b[0m\u001b[37m\u001b[0m \u001b[1m81s\u001b[0m 40ms/step - accuracy: 0.2989 - loss: 3.1828 - val_accuracy: 0.1420 - val_loss: 8.0568\n",
      "Epoch 15/50\n",
      "\u001b[1m2002/2002\u001b[0m \u001b[32m━━━━━━━━━━━━━━━━━━━━\u001b[0m\u001b[37m\u001b[0m \u001b[1m80s\u001b[0m 40ms/step - accuracy: 0.2995 - loss: 3.1875 - val_accuracy: 0.1503 - val_loss: 8.2016\n",
      "Epoch 16/50\n",
      "\u001b[1m2002/2002\u001b[0m \u001b[32m━━━━━━━━━━━━━━━━━━━━\u001b[0m\u001b[37m\u001b[0m \u001b[1m85s\u001b[0m 42ms/step - accuracy: 0.3023 - loss: 3.1585 - val_accuracy: 0.1444 - val_loss: 8.2910\n",
      "Epoch 17/50\n",
      "\u001b[1m2002/2002\u001b[0m \u001b[32m━━━━━━━━━━━━━━━━━━━━\u001b[0m\u001b[37m\u001b[0m \u001b[1m76s\u001b[0m 38ms/step - accuracy: 0.3066 - loss: 3.1447 - val_accuracy: 0.1436 - val_loss: 8.3470\n",
      "Epoch 18/50\n",
      "\u001b[1m2002/2002\u001b[0m \u001b[32m━━━━━━━━━━━━━━━━━━━━\u001b[0m\u001b[37m\u001b[0m \u001b[1m70s\u001b[0m 35ms/step - accuracy: 0.3096 - loss: 3.1072 - val_accuracy: 0.1395 - val_loss: 8.5066\n",
      "Epoch 19/50\n",
      "\u001b[1m2002/2002\u001b[0m \u001b[32m━━━━━━━━━━━━━━━━━━━━\u001b[0m\u001b[37m\u001b[0m \u001b[1m69s\u001b[0m 35ms/step - accuracy: 0.3161 - loss: 3.0783 - val_accuracy: 0.1426 - val_loss: 8.6793\n",
      "Epoch 20/50\n",
      "\u001b[1m2002/2002\u001b[0m \u001b[32m━━━━━━━━━━━━━━━━━━━━\u001b[0m\u001b[37m\u001b[0m \u001b[1m75s\u001b[0m 37ms/step - accuracy: 0.3226 - loss: 3.0523 - val_accuracy: 0.1406 - val_loss: 8.7877\n",
      "Epoch 21/50\n",
      "\u001b[1m2002/2002\u001b[0m \u001b[32m━━━━━━━━━━━━━━━━━━━━\u001b[0m\u001b[37m\u001b[0m \u001b[1m74s\u001b[0m 37ms/step - accuracy: 0.3208 - loss: 3.0591 - val_accuracy: 0.1428 - val_loss: 8.8992\n",
      "Epoch 22/50\n",
      "\u001b[1m2002/2002\u001b[0m \u001b[32m━━━━━━━━━━━━━━━━━━━━\u001b[0m\u001b[37m\u001b[0m \u001b[1m72s\u001b[0m 36ms/step - accuracy: 0.3260 - loss: 3.0311 - val_accuracy: 0.1332 - val_loss: 9.0456\n",
      "Epoch 23/50\n",
      "\u001b[1m2002/2002\u001b[0m \u001b[32m━━━━━━━━━━━━━━━━━━━━\u001b[0m\u001b[37m\u001b[0m \u001b[1m84s\u001b[0m 42ms/step - accuracy: 0.3313 - loss: 3.0042 - val_accuracy: 0.1424 - val_loss: 9.1387\n",
      "Epoch 24/50\n",
      "\u001b[1m2002/2002\u001b[0m \u001b[32m━━━━━━━━━━━━━━━━━━━━\u001b[0m\u001b[37m\u001b[0m \u001b[1m69s\u001b[0m 35ms/step - accuracy: 0.3324 - loss: 3.0011 - val_accuracy: 0.1385 - val_loss: 9.2180\n",
      "Epoch 25/50\n",
      "\u001b[1m2002/2002\u001b[0m \u001b[32m━━━━━━━━━━━━━━━━━━━━\u001b[0m\u001b[37m\u001b[0m \u001b[1m74s\u001b[0m 37ms/step - accuracy: 0.3315 - loss: 3.0178 - val_accuracy: 0.1395 - val_loss: 9.3602\n",
      "Epoch 26/50\n",
      "\u001b[1m2002/2002\u001b[0m \u001b[32m━━━━━━━━━━━━━━━━━━━━\u001b[0m\u001b[37m\u001b[0m \u001b[1m72s\u001b[0m 36ms/step - accuracy: 0.3350 - loss: 2.9946 - val_accuracy: 0.1396 - val_loss: 9.3924\n",
      "Epoch 27/50\n",
      "\u001b[1m2002/2002\u001b[0m \u001b[32m━━━━━━━━━━━━━━━━━━━━\u001b[0m\u001b[37m\u001b[0m \u001b[1m68s\u001b[0m 34ms/step - accuracy: 0.3377 - loss: 2.9859 - val_accuracy: 0.1356 - val_loss: 9.4843\n",
      "Epoch 28/50\n",
      "\u001b[1m2002/2002\u001b[0m \u001b[32m━━━━━━━━━━━━━━━━━━━━\u001b[0m\u001b[37m\u001b[0m \u001b[1m68s\u001b[0m 34ms/step - accuracy: 0.3399 - loss: 2.9665 - val_accuracy: 0.1415 - val_loss: 9.5316\n",
      "Epoch 29/50\n",
      "\u001b[1m2002/2002\u001b[0m \u001b[32m━━━━━━━━━━━━━━━━━━━━\u001b[0m\u001b[37m\u001b[0m \u001b[1m72s\u001b[0m 36ms/step - accuracy: 0.3392 - loss: 2.9557 - val_accuracy: 0.1335 - val_loss: 9.6586\n",
      "Epoch 30/50\n",
      "\u001b[1m2002/2002\u001b[0m \u001b[32m━━━━━━━━━━━━━━━━━━━━\u001b[0m\u001b[37m\u001b[0m \u001b[1m72s\u001b[0m 36ms/step - accuracy: 0.3394 - loss: 2.9609 - val_accuracy: 0.1386 - val_loss: 9.6950\n",
      "Epoch 31/50\n",
      "\u001b[1m2002/2002\u001b[0m \u001b[32m━━━━━━━━━━━━━━━━━━━━\u001b[0m\u001b[37m\u001b[0m \u001b[1m71s\u001b[0m 35ms/step - accuracy: 0.3417 - loss: 2.9493 - val_accuracy: 0.1421 - val_loss: 9.7114\n",
      "Epoch 32/50\n",
      "\u001b[1m2002/2002\u001b[0m \u001b[32m━━━━━━━━━━━━━━━━━━━━\u001b[0m\u001b[37m\u001b[0m \u001b[1m68s\u001b[0m 34ms/step - accuracy: 0.3411 - loss: 2.9481 - val_accuracy: 0.1351 - val_loss: 9.7942\n",
      "Epoch 33/50\n",
      "\u001b[1m2002/2002\u001b[0m \u001b[32m━━━━━━━━━━━━━━━━━━━━\u001b[0m\u001b[37m\u001b[0m \u001b[1m67s\u001b[0m 34ms/step - accuracy: 0.3393 - loss: 2.9584 - val_accuracy: 0.1376 - val_loss: 9.8379\n",
      "Epoch 34/50\n",
      "\u001b[1m2002/2002\u001b[0m \u001b[32m━━━━━━━━━━━━━━━━━━━━\u001b[0m\u001b[37m\u001b[0m \u001b[1m68s\u001b[0m 34ms/step - accuracy: 0.3436 - loss: 2.9560 - val_accuracy: 0.1348 - val_loss: 9.9548\n",
      "Epoch 35/50\n",
      "\u001b[1m2002/2002\u001b[0m \u001b[32m━━━━━━━━━━━━━━━━━━━━\u001b[0m\u001b[37m\u001b[0m \u001b[1m69s\u001b[0m 35ms/step - accuracy: 0.3445 - loss: 2.9412 - val_accuracy: 0.1354 - val_loss: 9.9621\n",
      "Epoch 36/50\n",
      "\u001b[1m2002/2002\u001b[0m \u001b[32m━━━━━━━━━━━━━━━━━━━━\u001b[0m\u001b[37m\u001b[0m \u001b[1m69s\u001b[0m 34ms/step - accuracy: 0.3437 - loss: 2.9459 - val_accuracy: 0.1346 - val_loss: 9.9847\n",
      "Epoch 37/50\n",
      "\u001b[1m2002/2002\u001b[0m \u001b[32m━━━━━━━━━━━━━━━━━━━━\u001b[0m\u001b[37m\u001b[0m \u001b[1m68s\u001b[0m 34ms/step - accuracy: 0.3411 - loss: 2.9254 - val_accuracy: 0.1335 - val_loss: 9.9884\n",
      "Epoch 38/50\n",
      "\u001b[1m2002/2002\u001b[0m \u001b[32m━━━━━━━━━━━━━━━━━━━━\u001b[0m\u001b[37m\u001b[0m \u001b[1m69s\u001b[0m 35ms/step - accuracy: 0.3440 - loss: 2.9481 - val_accuracy: 0.1333 - val_loss: 10.1413\n",
      "Epoch 39/50\n",
      "\u001b[1m2002/2002\u001b[0m \u001b[32m━━━━━━━━━━━━━━━━━━━━\u001b[0m\u001b[37m\u001b[0m \u001b[1m70s\u001b[0m 35ms/step - accuracy: 0.3480 - loss: 2.9250 - val_accuracy: 0.1299 - val_loss: 10.1477\n",
      "Epoch 40/50\n",
      "\u001b[1m2002/2002\u001b[0m \u001b[32m━━━━━━━━━━━━━━━━━━━━\u001b[0m\u001b[37m\u001b[0m \u001b[1m69s\u001b[0m 35ms/step - accuracy: 0.3455 - loss: 2.9131 - val_accuracy: 0.1371 - val_loss: 10.1955\n",
      "Epoch 41/50\n",
      "\u001b[1m2002/2002\u001b[0m \u001b[32m━━━━━━━━━━━━━━━━━━━━\u001b[0m\u001b[37m\u001b[0m \u001b[1m71s\u001b[0m 36ms/step - accuracy: 0.3485 - loss: 2.9128 - val_accuracy: 0.1368 - val_loss: 10.2875\n",
      "Epoch 42/50\n",
      "\u001b[1m2002/2002\u001b[0m \u001b[32m━━━━━━━━━━━━━━━━━━━━\u001b[0m\u001b[37m\u001b[0m \u001b[1m65s\u001b[0m 32ms/step - accuracy: 0.3500 - loss: 2.9154 - val_accuracy: 0.1374 - val_loss: 10.3994\n",
      "Epoch 43/50\n",
      "\u001b[1m2002/2002\u001b[0m \u001b[32m━━━━━━━━━━━━━━━━━━━━\u001b[0m\u001b[37m\u001b[0m \u001b[1m65s\u001b[0m 33ms/step - accuracy: 0.3473 - loss: 2.9205 - val_accuracy: 0.1340 - val_loss: 10.3904\n",
      "Epoch 44/50\n",
      "\u001b[1m2002/2002\u001b[0m \u001b[32m━━━━━━━━━━━━━━━━━━━━\u001b[0m\u001b[37m\u001b[0m \u001b[1m65s\u001b[0m 33ms/step - accuracy: 0.3542 - loss: 2.9042 - val_accuracy: 0.1302 - val_loss: 10.4308\n",
      "Epoch 45/50\n",
      "\u001b[1m2002/2002\u001b[0m \u001b[32m━━━━━━━━━━━━━━━━━━━━\u001b[0m\u001b[37m\u001b[0m \u001b[1m67s\u001b[0m 34ms/step - accuracy: 0.3559 - loss: 2.8947 - val_accuracy: 0.1333 - val_loss: 10.4443\n",
      "Epoch 46/50\n",
      "\u001b[1m2002/2002\u001b[0m \u001b[32m━━━━━━━━━━━━━━━━━━━━\u001b[0m\u001b[37m\u001b[0m \u001b[1m73s\u001b[0m 37ms/step - accuracy: 0.3550 - loss: 2.8787 - val_accuracy: 0.1310 - val_loss: 10.5086\n",
      "Epoch 47/50\n",
      "\u001b[1m2002/2002\u001b[0m \u001b[32m━━━━━━━━━━━━━━━━━━━━\u001b[0m\u001b[37m\u001b[0m \u001b[1m68s\u001b[0m 34ms/step - accuracy: 0.3584 - loss: 2.8649 - val_accuracy: 0.1330 - val_loss: 10.6222\n",
      "Epoch 48/50\n",
      "\u001b[1m2002/2002\u001b[0m \u001b[32m━━━━━━━━━━━━━━━━━━━━\u001b[0m\u001b[37m\u001b[0m \u001b[1m68s\u001b[0m 34ms/step - accuracy: 0.3567 - loss: 2.8923 - val_accuracy: 0.1329 - val_loss: 10.5845\n",
      "Epoch 49/50\n",
      "\u001b[1m2002/2002\u001b[0m \u001b[32m━━━━━━━━━━━━━━━━━━━━\u001b[0m\u001b[37m\u001b[0m \u001b[1m68s\u001b[0m 34ms/step - accuracy: 0.3583 - loss: 2.8730 - val_accuracy: 0.1324 - val_loss: 10.5864\n",
      "Epoch 50/50\n",
      "\u001b[1m2002/2002\u001b[0m \u001b[32m━━━━━━━━━━━━━━━━━━━━\u001b[0m\u001b[37m\u001b[0m \u001b[1m71s\u001b[0m 36ms/step - accuracy: 0.3585 - loss: 2.8770 - val_accuracy: 0.1289 - val_loss: 10.5790\n"
     ]
    }
   ],
   "source": [
    "# Define your model\n",
    "model = Sequential()\n",
    "model.add(Embedding(total_words, 100)) \n",
    "model.add(Bidirectional(LSTM(150)))\n",
    "model.add(Dense(total_words, activation='softmax'))\n",
    "\n",
    "adam = Adam(learning_rate=0.01)\n",
    "model.compile(loss='categorical_crossentropy', optimizer=adam, metrics=['accuracy'])\n",
    "\n",
    "# Train the model\n",
    "history = model.fit(X_train_temp, y_train_temp, epochs=50, validation_data=(X_val, y_val), verbose=1)"
   ]
  },
  {
   "cell_type": "markdown",
   "metadata": {},
   "source": [
    "# Save Models (Weights and biases)"
   ]
  },
  {
   "cell_type": "code",
   "execution_count": 40,
   "metadata": {
    "execution": {
     "iopub.execute_input": "2024-04-11T07:17:23.074643Z",
     "iopub.status.busy": "2024-04-11T07:17:23.074319Z",
     "iopub.status.idle": "2024-04-11T07:17:23.216893Z",
     "shell.execute_reply": "2024-04-11T07:17:23.215911Z",
     "shell.execute_reply.started": "2024-04-11T07:17:23.074617Z"
    }
   },
   "outputs": [],
   "source": [
    "# Save model architecture as JSON file\n",
    "from tensorflow.keras.models import model_from_json\n",
    "\n",
    "model_json = model.to_json()\n",
    "with open(\"lstm_model.json\", \"w\") as json_file:\n",
    "    json_file.write(model_json)"
   ]
  },
  {
   "cell_type": "code",
   "execution_count": 41,
   "metadata": {},
   "outputs": [
    {
     "name": "stdout",
     "output_type": "stream",
     "text": [
      "Model architecture loaded successfully from JSON file.\n"
     ]
    }
   ],
   "source": [
    "# Load model architecture from JSON file\n",
    "from tensorflow.keras.models import model_from_json\n",
    "\n",
    "with open(\"lstm_model.json\", \"r\") as json_file:\n",
    "    loaded_model_json = json_file.read()\n",
    "\n",
    "# Create model from loaded architecture\n",
    "loaded_model = model_from_json(loaded_model_json)\n",
    "\n",
    "print(\"Model architecture loaded successfully from JSON file.\")"
   ]
  },
  {
   "cell_type": "code",
   "execution_count": 42,
   "metadata": {
    "execution": {
     "iopub.execute_input": "2024-04-11T06:04:13.104775Z",
     "iopub.status.busy": "2024-04-11T06:04:13.104349Z",
     "iopub.status.idle": "2024-04-11T06:04:13.406339Z",
     "shell.execute_reply": "2024-04-11T06:04:13.404737Z",
     "shell.execute_reply.started": "2024-04-11T06:04:13.104743Z"
    }
   },
   "outputs": [],
   "source": [
    "import matplotlib.pyplot as plt\n",
    "import seaborn as sns\n",
    "from sklearn.metrics import confusion_matrix\n"
   ]
  },
  {
   "cell_type": "code",
   "execution_count": 43,
   "metadata": {
    "execution": {
     "iopub.execute_input": "2024-04-11T06:04:14.332289Z",
     "iopub.status.busy": "2024-04-11T06:04:14.331600Z",
     "iopub.status.idle": "2024-04-11T06:04:15.028083Z",
     "shell.execute_reply": "2024-04-11T06:04:15.026976Z",
     "shell.execute_reply.started": "2024-04-11T06:04:14.332254Z"
    }
   },
   "outputs": [
    {
     "data": {
      "image/png": "[encoded data removed]",
      "text/plain": [
       "<Figure size 640x480 with 1 Axes>"
      ]
     },
     "metadata": {},
     "output_type": "display_data"
    },
    {
     "data": {
      "image/png": "[encoded data removed]",
      "text/plain": [
       "<Figure size 640x480 with 1 Axes>"
      ]
     },
     "metadata": {},
     "output_type": "display_data"
    }
   ],
   "source": [
    "\n",
    "# Plot Loss\n",
    "plt.plot(history.history['loss'], label='Training Loss')\n",
    "plt.plot(history.history['val_loss'], label='Validation Loss')\n",
    "plt.title('Training and Validation Loss')\n",
    "plt.xlabel('Epochs')\n",
    "plt.ylabel('Loss')\n",
    "plt.legend()\n",
    "plt.show()\n",
    "\n",
    "# Plot Accuracy\n",
    "plt.plot(history.history['accuracy'], label='Training Accuracy')\n",
    "plt.plot(history.history['val_accuracy'], label='Validation Accuracy')\n",
    "plt.title('Training and Validation Accuracy')\n",
    "plt.xlabel('Epochs')\n",
    "plt.ylabel('Accuracy')\n",
    "plt.legend()\n",
    "plt.show()\n"
   ]
  },
  {
   "cell_type": "markdown",
   "metadata": {},
   "source": [
    "# Inferences"
   ]
  },
  {
   "cell_type": "code",
   "execution_count": 57,
   "metadata": {
    "execution": {
     "iopub.execute_input": "2024-04-11T07:21:37.822914Z",
     "iopub.status.busy": "2024-04-11T07:21:37.822420Z",
     "iopub.status.idle": "2024-04-11T07:21:38.082054Z",
     "shell.execute_reply": "2024-04-11T07:21:38.080961Z",
     "shell.execute_reply.started": "2024-04-11T07:21:37.822880Z"
    }
   },
   "outputs": [],
   "source": [
    "from IPython.display import display, HTML\n",
    "import numpy as np\n",
    "from tensorflow.keras.preprocessing.sequence import pad_sequences\n",
    "\n",
    "def predict_top_five_words(model, tokenizer, seed_text, max_sequence_len):\n",
    "    token_list = tokenizer.texts_to_sequences([seed_text])[0]\n",
    "    token_list = pad_sequences([token_list], maxlen=max_sequence_len-1, padding='pre')\n",
    "    predicted = model.predict(token_list, verbose=0)\n",
    "    top_five_indexes = np.argsort(predicted[0])[::-1][:5]\n",
    "    top_five_words = []\n",
    "    for index in top_five_indexes:\n",
    "        for word, idx in tokenizer.word_index.items():\n",
    "            if idx == index:\n",
    "                top_five_words.append(word)\n",
    "                break\n",
    "    return top_five_words\n",
    "\n",
    "def predict_and_display_top_five_words(seed_text, model, tokenizer, max_sequence_len):\n",
    "    top_five_words = predict_top_five_words(model, tokenizer, seed_text, max_sequence_len)\n",
    "    heading_app = f\"<h1>Sentence AutoCompletion App With Five Outputs</h1>\"\n",
    "    output_text = f\"<ul>{''.join([f'<li>{seed_text} {word}</li>' for word in top_five_words])}</ul>\"\n",
    "    html_content = f\"<html><head><title>Top Five Words</title></head><body>{heading_app} <br> <hr> {output_text}</body></html>\"\n",
    "    display(HTML(html_content))\n"
   ]
  },
  {
   "cell_type": "code",
   "execution_count": 58,
   "metadata": {
    "execution": {
     "iopub.execute_input": "2024-04-11T07:22:36.745099Z",
     "iopub.status.busy": "2024-04-11T07:22:36.744339Z",
     "iopub.status.idle": "2024-04-11T07:22:36.822230Z",
     "shell.execute_reply": "2024-04-11T07:22:36.821207Z",
     "shell.execute_reply.started": "2024-04-11T07:22:36.745061Z"
    }
   },
   "outputs": [
    {
     "data": {
      "text/html": [
       "<html><head><title>Top Five Words</title></head><body><h1>Sentence AutoCompletion App With Five Outputs</h1> <br> <hr> <ul><li>She is my copies</li><li>She is my intact</li><li>She is my snatched</li><li>She is my steely</li><li>She is my wonders</li></ul></body></html>"
      ],
      "text/plain": [
       "<IPython.core.display.HTML object>"
      ]
     },
     "metadata": {},
     "output_type": "display_data"
    }
   ],
   "source": [
    "# Test the function\n",
    "seed_text = \"She is my\"\n",
    "predict_and_display_top_five_words(seed_text, loaded_model, tokenizer , max_sequence_len)"
   ]
  },
  {
   "cell_type": "code",
   "execution_count": 60,
   "metadata": {
    "execution": {
     "iopub.execute_input": "2024-04-11T06:32:59.206205Z",
     "iopub.status.busy": "2024-04-11T06:32:59.205113Z",
     "iopub.status.idle": "2024-04-11T06:32:59.281620Z",
     "shell.execute_reply": "2024-04-11T06:32:59.280559Z",
     "shell.execute_reply.started": "2024-04-11T06:32:59.206146Z"
    }
   },
   "outputs": [
    {
     "data": {
      "text/html": [
       "<html><head><title>Top Five Words</title></head><body><h1>Sentence AutoCompletion App With Five Outputs</h1> <br> <hr> <ul><li>I have noses</li><li>I have copies</li><li>I have intact</li><li>I have implied</li><li>I have incandescents</li></ul></body></html>"
      ],
      "text/plain": [
       "<IPython.core.display.HTML object>"
      ]
     },
     "metadata": {},
     "output_type": "display_data"
    }
   ],
   "source": [
    "# Test 2:\n",
    "# Test the function\n",
    "seed_text = \"I have\"\n",
    "predict_and_display_top_five_words(seed_text, loaded_model, tokenizer , max_sequence_len)"
   ]
  },
  {
   "cell_type": "code",
   "execution_count": 61,
   "metadata": {
    "execution": {
     "iopub.execute_input": "2024-04-11T07:23:00.192909Z",
     "iopub.status.busy": "2024-04-11T07:23:00.192508Z",
     "iopub.status.idle": "2024-04-11T07:23:00.270331Z",
     "shell.execute_reply": "2024-04-11T07:23:00.269254Z",
     "shell.execute_reply.started": "2024-04-11T07:23:00.192880Z"
    }
   },
   "outputs": [
    {
     "data": {
      "text/html": [
       "<html><head><title>Top Five Words</title></head><body><h1>Sentence AutoCompletion App With Five Outputs</h1> <br> <hr> <ul><li>We love intact</li><li>We love colored</li><li>We love wonders</li><li>We love noses</li><li>We love incandescents</li></ul></body></html>"
      ],
      "text/plain": [
       "<IPython.core.display.HTML object>"
      ]
     },
     "metadata": {},
     "output_type": "display_data"
    }
   ],
   "source": [
    "# Test 3:\n",
    "# Test the function\n",
    "seed_text = \"We love\"\n",
    "predict_and_display_top_five_words(seed_text, loaded_model, tokenizer , max_sequence_len)"
   ]
  },
  {
   "cell_type": "code",
   "execution_count": 62,
   "metadata": {
    "execution": {
     "iopub.execute_input": "2024-04-11T06:33:58.775637Z",
     "iopub.status.busy": "2024-04-11T06:33:58.775231Z",
     "iopub.status.idle": "2024-04-11T06:33:58.849540Z",
     "shell.execute_reply": "2024-04-11T06:33:58.848492Z",
     "shell.execute_reply.started": "2024-04-11T06:33:58.775606Z"
    }
   },
   "outputs": [
    {
     "data": {
      "text/html": [
       "<html><head><title>Top Five Words</title></head><body><h1>Sentence AutoCompletion App With Five Outputs</h1> <br> <hr> <ul><li>How are implied</li><li>How are combination</li><li>How are noses</li><li>How are roaring</li><li>How are anticipation</li></ul></body></html>"
      ],
      "text/plain": [
       "<IPython.core.display.HTML object>"
      ]
     },
     "metadata": {},
     "output_type": "display_data"
    }
   ],
   "source": [
    "# Test 3:\n",
    "seed_text = \"How are\"\n",
    "predict_and_display_top_five_words(seed_text, loaded_model, tokenizer , max_sequence_len )"
   ]
  }
 ],
 "metadata": {
  "kaggle": {
   "accelerator": "gpu",
   "dataSources": [
    {
     "datasetId": 4758440,
     "sourceId": 8065627,
     "sourceType": "datasetVersion"
    },
    {
     "datasetId": 4758543,
     "sourceId": 8065761,
     "sourceType": "datasetVersion"
    },
    {
     "datasetId": 4759977,
     "sourceId": 8067728,
     "sourceType": "datasetVersion"
    }
   ],
   "dockerImageVersionId": 30674,
   "isGpuEnabled": true,
   "isInternetEnabled": true,
   "language": "python",
   "sourceType": "notebook"
  },
  "kernelspec": {
   "display_name": "Python 3 (ipykernel)",
   "language": "python",
   "name": "python3"
  },
  "language_info": {
   "codemirror_mode": {
    "name": "ipython",
    "version": 3
   },
   "file_extension": ".py",
   "mimetype": "text/x-python",
   "name": "python",
   "nbconvert_exporter": "python",
   "pygments_lexer": "ipython3",
   "version": "3.11.7"
  }
 },
 "nbformat": 4,
 "nbformat_minor": 4
}
